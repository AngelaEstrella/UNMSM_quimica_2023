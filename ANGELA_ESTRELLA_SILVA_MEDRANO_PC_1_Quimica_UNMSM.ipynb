{
  "nbformat": 4,
  "nbformat_minor": 0,
  "metadata": {
    "colab": {
      "provenance": [],
      "include_colab_link": true
    },
    "kernelspec": {
      "name": "python3",
      "display_name": "Python 3"
    },
    "language_info": {
      "name": "python"
    },
    "widgets": {
      "application/vnd.jupyter.widget-state+json": {
        "d4691835f4474884829213796343340f": {
          "model_module": "faerun-notebook",
          "model_name": "SmilesDrawerModel",
          "model_module_version": "^0.1.5",
          "state": {
            "_dom_classes": [],
            "_model_module": "faerun-notebook",
            "_model_module_version": "^0.1.5",
            "_model_name": "SmilesDrawerModel",
            "_view_count": null,
            "_view_module": "faerun-notebook",
            "_view_module_version": "^0.1.5",
            "_view_name": "SmilesDrawerView",
            "background": "#1e1e1e",
            "border": true,
            "layout": "IPY_MODEL_35b7ce94b6e84d4c985918e50984dcd7",
            "options": {
              "scale": 1.25
            },
            "output": "svg",
            "theme": "dark",
            "value": [
              [
                "Rxn",
                "C(C1C(C(C(C(O1)O)O)O)O)O.O=O>>C(=O)=O.O"
              ]
            ]
          }
        },
        "35b7ce94b6e84d4c985918e50984dcd7": {
          "model_module": "@jupyter-widgets/base",
          "model_name": "LayoutModel",
          "model_module_version": "1.2.0",
          "state": {
            "_model_module": "@jupyter-widgets/base",
            "_model_module_version": "1.2.0",
            "_model_name": "LayoutModel",
            "_view_count": null,
            "_view_module": "@jupyter-widgets/base",
            "_view_module_version": "1.2.0",
            "_view_name": "LayoutView",
            "align_content": null,
            "align_items": null,
            "align_self": null,
            "border": null,
            "bottom": null,
            "display": null,
            "flex": null,
            "flex_flow": null,
            "grid_area": null,
            "grid_auto_columns": null,
            "grid_auto_flow": null,
            "grid_auto_rows": null,
            "grid_column": null,
            "grid_gap": null,
            "grid_row": null,
            "grid_template_areas": null,
            "grid_template_columns": null,
            "grid_template_rows": null,
            "height": null,
            "justify_content": null,
            "justify_items": null,
            "left": null,
            "margin": null,
            "max_height": null,
            "max_width": null,
            "min_height": null,
            "min_width": null,
            "object_fit": null,
            "object_position": null,
            "order": null,
            "overflow": null,
            "overflow_x": null,
            "overflow_y": null,
            "padding": null,
            "right": null,
            "top": null,
            "visibility": null,
            "width": null
          }
        }
      }
    }
  },
  "cells": [
    {
      "cell_type": "markdown",
      "metadata": {
        "id": "view-in-github",
        "colab_type": "text"
      },
      "source": [
        "<a href=\"https://colab.research.google.com/github/AngelaEstrella/UNMSM_quimica_2023/blob/main/ANGELA_ESTRELLA_SILVA_MEDRANO_PC_1_Quimica_UNMSM.ipynb\" target=\"_parent\"><img src=\"https://colab.research.google.com/assets/colab-badge.svg\" alt=\"Open In Colab\"/></a>"
      ]
    },
    {
      "cell_type": "markdown",
      "source": [
        "$$\\Large \\textit{UNMSM | Química}$$\n",
        "$$\\large \\textbf{PC Nº1 | Materia y clasificación}$$\n",
        "\n",
        "_Profesor: Jesus Alvarado Huayhuaz_"
      ],
      "metadata": {
        "id": "sDJAjbaQOj4x"
      }
    },
    {
      "cell_type": "markdown",
      "source": [
        "Alumna: Angela Estrella Silva Medrano"
      ],
      "metadata": {
        "id": "9IiD_SeV5SCj"
      }
    },
    {
      "cell_type": "markdown",
      "source": [
        "Todas las indicaciones para la presentación de la práctica son explicadas en clase y brindadas en el material de enunciado de preguntas en formato PDF."
      ],
      "metadata": {
        "id": "_DsTzWLoP7Fy"
      }
    },
    {
      "cell_type": "markdown",
      "source": [
        "## Pregunta 1: Sobre el ABC de python (4 puntos)"
      ],
      "metadata": {
        "id": "obD7c2igOD6t"
      }
    },
    {
      "cell_type": "markdown",
      "source": [
        "Durante la semana de revisión del material \"ABC de python\", reflexiona sobre qué conceptos aprendiste con claridad y cuáles consideras los más desafiantes. A continuación resuelve los siguiente ejercicios, puedes ayudarte del material en http://bit.ly/3YKICSZ."
      ],
      "metadata": {
        "id": "emt93S7dL7QH"
      }
    },
    {
      "cell_type": "code",
      "source": [
        "# Imprime la versión de python que usas y las palabras reservadas de python para esa versión."
      ],
      "metadata": {
        "id": "6mJvqMN0LTU8"
      },
      "execution_count": null,
      "outputs": []
    },
    {
      "cell_type": "markdown",
      "source": [
        "\n",
        "*   Versión de python:\n",
        "\n",
        "\n",
        "\n",
        "\n",
        "\n"
      ],
      "metadata": {
        "id": "_XFgFOZz5h3K"
      }
    },
    {
      "cell_type": "code",
      "source": [
        "!python --version"
      ],
      "metadata": {
        "colab": {
          "base_uri": "https://localhost:8080/"
        },
        "id": "qxqEEZPr5a1K",
        "outputId": "0496a280-3c70-4b2a-ce88-6c076c0b7346"
      },
      "execution_count": 1,
      "outputs": [
        {
          "output_type": "stream",
          "name": "stdout",
          "text": [
            "Python 3.10.12\n"
          ]
        }
      ]
    },
    {
      "cell_type": "markdown",
      "source": [
        "\n",
        "\n",
        "*   Palabras reservadas de python:\n"
      ],
      "metadata": {
        "id": "P-tNt5VW52yj"
      }
    },
    {
      "cell_type": "code",
      "source": [
        "import keyword\n",
        "print(keyword.kwlist)"
      ],
      "metadata": {
        "colab": {
          "base_uri": "https://localhost:8080/"
        },
        "id": "-U2YRUFY6BV4",
        "outputId": "57250743-ff34-42ef-b75c-dfad1d042e04"
      },
      "execution_count": 2,
      "outputs": [
        {
          "output_type": "stream",
          "name": "stdout",
          "text": [
            "['False', 'None', 'True', 'and', 'as', 'assert', 'async', 'await', 'break', 'class', 'continue', 'def', 'del', 'elif', 'else', 'except', 'finally', 'for', 'from', 'global', 'if', 'import', 'in', 'is', 'lambda', 'nonlocal', 'not', 'or', 'pass', 'raise', 'return', 'try', 'while', 'with', 'yield']\n"
          ]
        }
      ]
    },
    {
      "cell_type": "code",
      "source": [
        "# Crea una matriz de 3x3 e imprime la suma de los elementos en su diagonal (traza)."
      ],
      "metadata": {
        "id": "MxDzGypdLTXh"
      },
      "execution_count": null,
      "outputs": []
    },
    {
      "cell_type": "code",
      "source": [
        "matriz=[[5,3,7],[4,1,2],[6,8,7]]\n",
        "suma=0\n",
        "i=0\n",
        "for fila in matriz:\n",
        "  print(fila)\n",
        "for mat in matriz:\n",
        "  i=i+1\n",
        "  j=0\n",
        "  for min in mat:\n",
        "    j=j+1\n",
        "    if i==j:\n",
        "      suma=min+suma\n",
        "print(\"La traza es: \",suma)"
      ],
      "metadata": {
        "colab": {
          "base_uri": "https://localhost:8080/"
        },
        "id": "ljlb0ubd6qYc",
        "outputId": "470bc539-a700-4745-f410-c6a007093b71"
      },
      "execution_count": 9,
      "outputs": [
        {
          "output_type": "stream",
          "name": "stdout",
          "text": [
            "[5, 3, 7]\n",
            "[4, 1, 2]\n",
            "[6, 8, 7]\n",
            "La traza es:  13\n"
          ]
        }
      ]
    },
    {
      "cell_type": "code",
      "source": [
        "# Guarda como variable la masa atómica de los elementos C, H y O, e imprime la masa molecular del etanol."
      ],
      "metadata": {
        "id": "MyhNX7JmLTSe"
      },
      "execution_count": null,
      "outputs": []
    },
    {
      "cell_type": "code",
      "source": [
        "masa_Carbono=12\n",
        "masa_Hidrogeno=1\n",
        "masa_Oxigeno=16\n",
        "masa_Etanol= 2*masa_Carbono+ 6*masa_Hidrogeno+ masa_Oxigeno\n",
        "print(\"La masa molecular del etanol (C₂H₆O) es:\",masa_Etanol,\"g/mol\")"
      ],
      "metadata": {
        "colab": {
          "base_uri": "https://localhost:8080/"
        },
        "id": "mAeNyeRV7ef6",
        "outputId": "64ccdc81-793c-401e-f483-cf4309956d79"
      },
      "execution_count": 21,
      "outputs": [
        {
          "output_type": "stream",
          "name": "stdout",
          "text": [
            "La masa molecular del etanol (C₂H₆O) es: 46 g/mol\n"
          ]
        }
      ]
    },
    {
      "cell_type": "code",
      "source": [
        "# Busca la temperatura de fusión en Celsius de 5 metales y guárdalos en una lista. Imprime las temperaturas en Kelvin"
      ],
      "metadata": {
        "id": "NCOnJ0FwgLLc"
      },
      "execution_count": null,
      "outputs": []
    },
    {
      "cell_type": "code",
      "source": [
        "kelvin=273\n",
        "Elemento=['Plata','Oro','Estaño','Hierro','Tungsteno']\n",
        "lista=[962,1064,232,1538,3422]\n",
        "print(\"Temperaturas de fusion de 5 metales convertidos de celsius a Kelvin:\")\n",
        "for i, elemento in zip(lista,Elemento):\n",
        "  Temp=i+kelvin\n",
        "  print(f\"-{elemento} = {Temp}°k\")"
      ],
      "metadata": {
        "colab": {
          "base_uri": "https://localhost:8080/"
        },
        "id": "NSmJWPUZFs4R",
        "outputId": "6535e9bc-4315-43d4-e153-01b43153a8d4"
      },
      "execution_count": 28,
      "outputs": [
        {
          "output_type": "stream",
          "name": "stdout",
          "text": [
            "Temperaturas de fusion de 5 metales convertidos de celsius a Kelvin:\n",
            "-Plata = 1235°k\n",
            "-Oro = 1337°k\n",
            "-Estaño = 505°k\n",
            "-Hierro = 1811°k\n",
            "-Tungsteno = 3695°k\n"
          ]
        }
      ]
    },
    {
      "cell_type": "markdown",
      "source": [
        "## Pregunta 2: Operaciones (4 puntos)"
      ],
      "metadata": {
        "id": "epzOadagLfPi"
      }
    },
    {
      "cell_type": "markdown",
      "source": [
        "Escribe un programa que lea repetidamente elementos químicos en español hasta que el usuario introduzca “fin”. Una vez se haya introducido “fin”, muestra por pantalla (o sea imprime) el total de elementos ingresados. Si el usuario introduce cualquier otra cosa que no sea un elemento químico, detecta su fallo usando try y except, muestra un mensaje de error y pasa al siguiente elemento."
      ],
      "metadata": {
        "id": "MbAEOGPsjOWZ"
      }
    },
    {
      "cell_type": "markdown",
      "source": [
        "Utilizaremos la libreria unicode"
      ],
      "metadata": {
        "id": "ikaPm3GFHXot"
      }
    },
    {
      "cell_type": "code",
      "source": [
        "!pip install unidecode\n"
      ],
      "metadata": {
        "id": "gJGX0p5QLetj",
        "colab": {
          "base_uri": "https://localhost:8080/"
        },
        "outputId": "bd4fdc94-7071-4a82-940b-b8bf57be195b"
      },
      "execution_count": 29,
      "outputs": [
        {
          "output_type": "stream",
          "name": "stdout",
          "text": [
            "Collecting unidecode\n",
            "  Downloading Unidecode-1.3.6-py3-none-any.whl (235 kB)\n",
            "\u001b[?25l     \u001b[90m━━━━━━━━━━━━━━━━━━━━━━━━━━━━━━━━━━━━━━━━\u001b[0m \u001b[32m0.0/235.9 kB\u001b[0m \u001b[31m?\u001b[0m eta \u001b[36m-:--:--\u001b[0m\r\u001b[2K     \u001b[91m━━━━━━━━━━━━━━━━━━━━━━━━━━━━━━━━━━━━━━\u001b[0m\u001b[91m╸\u001b[0m \u001b[32m235.5/235.9 kB\u001b[0m \u001b[31m8.1 MB/s\u001b[0m eta \u001b[36m0:00:01\u001b[0m\r\u001b[2K     \u001b[90m━━━━━━━━━━━━━━━━━━━━━━━━━━━━━━━━━━━━━━━\u001b[0m \u001b[32m235.9/235.9 kB\u001b[0m \u001b[31m6.1 MB/s\u001b[0m eta \u001b[36m0:00:00\u001b[0m\n",
            "\u001b[?25hInstalling collected packages: unidecode\n",
            "Successfully installed unidecode-1.3.6\n"
          ]
        }
      ]
    },
    {
      "cell_type": "code",
      "source": [
        "import string\n",
        "from unidecode import unidecode\n",
        "elementos_quimicos = [\n",
        "    \"Hidrógeno\", \"Helio\", \"Litio\", \"Berilio\", \"Boro\", \"Carbono\", \"Nitrógeno\", \"Oxígeno\", \"Flúor\", \"Neón\",\n",
        "    \"Sodio\", \"Magnesio\", \"Aluminio\", \"Silicio\", \"Fósforo\", \"Azufre\", \"Cloro\", \"Argón\", \"Potasio\", \"Calcio\",\n",
        "    \"Escandio\", \"Titanio\", \"Vanadio\", \"Cromo\", \"Manganeso\", \"Hierro\", \"Cobalto\", \"Níquel\", \"Cobre\", \"Zinc\",\n",
        "    \"Galio\", \"Germanio\", \"Arsénico\", \"Selenio\", \"Bromo\", \"Kriptón\", \"Rubidio\", \"Estroncio\", \"Itrio\", \"Circonio\",\n",
        "    \"Niobio\", \"Molibdeno\", \"Tecnecio\", \"Rutenio\", \"Rodio\", \"Paladio\", \"Plata\", \"Cadmio\", \"Indio\", \"Estaño\",\n",
        "    \"Antimonio\", \"Telurio\", \"Yodo\", \"Xenón\", \"Cesio\", \"Bario\", \"Lantano\", \"Cerio\", \"Praseodimio\", \"Neodimio\",\n",
        "    \"Prometio\", \"Samario\", \"Europio\", \"Gadolinio\", \"Terbio\", \"Disprosio\", \"Holmio\", \"Erbio\", \"Tulio\", \"Iterbio\",\n",
        "    \"Lutecio\", \"Hafnio\", \"Tántalo\", \"Wolframio\", \"Renio\", \"Osmio\", \"Iridio\", \"Platino\", \"Oro\", \"Mercurio\",\n",
        "    \"Talio\", \"Plomo\", \"Bismuto\", \"Polonio\", \"Astato\", \"Radón\", \"Francio\", \"Radio\", \"Actinio\", \"Torio\",\n",
        "    \"Protactinio\", \"Uranio\", \"Neptunio\", \"Plutonio\", \"Americio\", \"Curio\", \"Berkelio\", \"Californio\", \"Einstenio\",\n",
        "    \"Fermio\", \"Mendelevio\", \"Nobelio\", \"Lawrencio\", \"Rutherfordio\", \"Dubnio\", \"Seaborgio\", \"Bohrio\",\n",
        "    \"Hassio\", \"Meitnerio\", \"Darmstadtio\", \"Roentgenio\", \"Copernicio\", \"Nihonio\", \"Flerovio\", \"Moscovio\",\n",
        "    \"Livermorio\", \"Tennessino\", \"Oganesón\"\n",
        "]\n",
        "elementos_contados=0\n",
        "while True:\n",
        "  inputelement = input(\"Digite el elemento quimico por su nombre (o 'fin' para terminar): \")\n",
        "  if inputelement.lower() == 'fin':\n",
        "    break\n",
        "  try:\n",
        "    inputelement_normalized = unidecode(inputelement)\n",
        "    if string.capwords(inputelement_normalized) in [unidecode(elem) for elem in elementos_quimicos]:\n",
        "      elementos_contados+=1\n",
        "      print(\"Elemento encontrado\")\n",
        "    else:\n",
        "      print(\"Elemento no encontrado\")\n",
        "  except ValueError:\n",
        "      print(\"¡Error! Debes ingresar un valor válido.\")\n",
        "print(f\"El total de elementos ingresados es {elementos_contados}\")"
      ],
      "metadata": {
        "colab": {
          "base_uri": "https://localhost:8080/"
        },
        "id": "MU5YPg6cHhx7",
        "outputId": "5b2dfda3-6c09-4b5c-fb39-475fe6e86c9c"
      },
      "execution_count": 32,
      "outputs": [
        {
          "output_type": "stream",
          "name": "stdout",
          "text": [
            "Digite el elemento quimico por su nombre (o 'fin' para terminar): aluminio\n",
            "Elemento encontrado\n",
            "Digite el elemento quimico por su nombre (o 'fin' para terminar): oro\n",
            "Elemento encontrado\n",
            "Digite el elemento quimico por su nombre (o 'fin' para terminar): fin\n",
            "El total de elementos ingresados es 2\n"
          ]
        }
      ]
    },
    {
      "cell_type": "markdown",
      "source": [
        "# Pregunta 3: Conservación de la masa (4 puntos)"
      ],
      "metadata": {
        "id": "8gxSHpD3LZsh"
      }
    },
    {
      "cell_type": "markdown",
      "source": [
        "### Código necesario para generar la imagen"
      ],
      "metadata": {
        "id": "mMV9c3hDl7KL"
      }
    },
    {
      "cell_type": "code",
      "source": [
        "!pip install faerun-notebook==0.1.5b0\n",
        "\n",
        "import ipywidgets as widgets\n",
        "from faerun_notebook import SmilesDrawer\n",
        "from google.colab import output\n",
        "output.enable_custom_widget_manager()"
      ],
      "metadata": {
        "id": "JgF8Ohtbky65"
      },
      "execution_count": null,
      "outputs": []
    },
    {
      "cell_type": "markdown",
      "source": [
        "### Reacción química"
      ],
      "metadata": {
        "id": "5sLC10D_oSrV"
      }
    },
    {
      "cell_type": "markdown",
      "source": [
        "Demuestra cómo se cumple la conservación de la masa en la siguiente reacción química. Sugerencia: hacer un balance estequiométrico y luego emplear la masa molecular de reactivos y productos."
      ],
      "metadata": {
        "id": "OVRhAzaVmD86"
      }
    },
    {
      "cell_type": "code",
      "source": [
        "SmilesDrawer(value=[(\"Rxn\", \"C(C1C(C(C(C(O1)O)O)O)O)O.O=O>>C(=O)=O.O\")], theme='dark', background=\"#1e1e1e\", options={'scale': 1.25})"
      ],
      "metadata": {
        "colab": {
          "base_uri": "https://localhost:8080/",
          "height": 289,
          "referenced_widgets": [
            "d4691835f4474884829213796343340f",
            "35b7ce94b6e84d4c985918e50984dcd7"
          ]
        },
        "id": "CC0mAXWmnYyN",
        "outputId": "fb9a2a33-11fa-47cd-bffe-ce9c285db1d8"
      },
      "execution_count": null,
      "outputs": [
        {
          "output_type": "display_data",
          "data": {
            "text/plain": [
              "SmilesDrawer(background='#1e1e1e', options={'scale': 1.25}, theme='dark', value=[('Rxn', 'C(C1C(C(C(C(O1)O)O)O…"
            ],
            "application/vnd.jupyter.widget-view+json": {
              "version_major": 2,
              "version_minor": 0,
              "model_id": "d4691835f4474884829213796343340f"
            }
          },
          "metadata": {
            "application/vnd.jupyter.widget-view+json": {
              "colab": {
                "custom_widget_manager": {
                  "url": "https://ssl.gstatic.com/colaboratory-static/widgets/colab-cdn-widget-manager/b3e629b1971e1542/manager.min.js"
                }
              }
            }
          }
        }
      ]
    },
    {
      "cell_type": "code",
      "source": [
        "print(\"De la imagen sacamos la formula global de cada elemento\")\n",
        "print(\"C6H12O6 + O2 -> CO2 + H2O\")\n",
        "from sympy import symbols, Eq, solve\n",
        "\n",
        "a, b, c = symbols('a b c')\n",
        "\n",
        "C = Eq(6*a, c)\n",
        "H = Eq(12*a, 2*b)\n",
        "O = Eq(6*a + 2*b, 2*c + 6)\n",
        "\n",
        "solu = solve((C, H, O), (a, b, c))\n",
        "\n",
        "coefi = solu[a], solu[b], solu[c]\n",
        "\n",
        "ecuacion_balanceada = f\"{coefi[0]}(C6H12O6) + {coefi[1]}(O2) -> {coefi[2]}(CO2) + 6(H2O)\"\n",
        "print(\"Ecuación balanceada:\", ecuacion_balanceada)\n",
        "mC6H12O6 = 6*12 + 12*1 + 6*16\n",
        "m6O2 = 6*16*2\n",
        "m6CO2 = 6*(12 + 2*16)\n",
        "m6H2O = 6*(2 + 16)\n",
        "print(\"Masa C6H12O6:\", mC6H12O6)\n",
        "print(\"Masa 6(O2):\", m6O2)\n",
        "print(\"Masa 6(CO2):\", m6CO2)\n",
        "print(\"Masa 6(H2O):\", m6H2O)\n",
        "print(\"---> Para que se de la conservación de la masa, la masa de los reactivos debe ser igual a la masa de los prodcutos\")\n",
        "print(\"Por lo tanto:\")\n",
        "print( \"mC6H12O6 + m6O2 -> m6CO2 + m6H2O\" )\n",
        "masa_Reactivos=mC6H12O6 +m6O2\n",
        "masa_Productos=m6CO2 + m6H2O\n",
        "print( \"Masa de los reactivos:\",masa_Reactivos )\n",
        "print(\"Masa de los productos:\",masa_Productos)\n",
        "if mC6H12O6 + m6O2 == m6CO2 + m6H2O:\n",
        "    print(\"Tenemos que la masa de los reactivos es igual al del los productos, por lo tanto se esta cumpliendo la conservación de la masa\")"
      ],
      "metadata": {
        "colab": {
          "base_uri": "https://localhost:8080/"
        },
        "id": "0QSNGOLwYdn9",
        "outputId": "fee0e829-9515-4c7c-8cb3-483d3dbf5f5d"
      },
      "execution_count": 66,
      "outputs": [
        {
          "output_type": "stream",
          "name": "stdout",
          "text": [
            "De la imagen sacamos la formula global de cada elemento\n",
            "C6H12O6 + O2 -> CO2 + H2O\n",
            "Ecuación balanceada: 1(C6H12O6) + 6(O2) -> 6(CO2) + 6(H2O)\n",
            "Masa C6H12O6: 180\n",
            "Masa 6(O2): 192\n",
            "Masa 6(CO2): 264\n",
            "Masa 6(H2O): 108\n",
            "---> Para que se de la conservación de la masa, la masa de los reactivos debe ser igual a la masa de los prodcutos\n",
            "Por lo tanto:\n",
            "mC6H12O6 + m6O2 -> m6CO2 + m6H2O\n",
            "Masa de los reactivos: 372\n",
            "Masa de los productos: 372\n",
            "Tenemos que la masa de los reactivos es igual al del los productos, por lo tanto se esta cumpliendo la conservación de la masa\n"
          ]
        }
      ]
    },
    {
      "cell_type": "markdown",
      "source": [
        "## Pregunta 4: Notación científica (4 puntos)"
      ],
      "metadata": {
        "id": "Rh-nAUiKhJNB"
      }
    },
    {
      "cell_type": "markdown",
      "source": [
        "Imprime las siguientes operaciones según la notación científica:\n",
        "\n",
        "(1) $1.321 \\times 10^{-4} + 8.5 \\times 10^{-2}$\n",
        "\n",
        "(2) $1.71 \\times 10^{3} - 2.01 \\times 10^{2}\\$\n",
        "\n",
        "(3) $(7.4 \\times 10^5)(7.2 \\times 10^4)$\n",
        "\n",
        "(4) $(7.4 \\times 10^5)/(7.2 \\times 10^4)$"
      ],
      "metadata": {
        "id": "NIkI45Xdqqnt"
      }
    },
    {
      "cell_type": "code",
      "source": [
        "import numpy as np\n",
        "print(\"Solucion de los problemas:\")\n",
        "ejercicio_1= 1.321*(10**-4) + 8.5*(10**-2)\n",
        "print(\"El resultado del ejercicio 1 es:\", np.format_float_scientific(ejercicio_1, precision = 2, exp_digits=2))\n",
        "\n",
        "ejercicio_2 = 1.71*(10**3) - 2.01*(10**2)\n",
        "print(\"El resultado del ejercicio 2 es:\", np.format_float_scientific(ejercicio_2, precision = 2, exp_digits=2))\n",
        "\n",
        "ejercicio_3 = (7.4*(10**5)) * (7.2*(10**4))\n",
        "print(\"El resultado del ejercicio 3 es:\", np.format_float_scientific(ejercicio_3, precision = 2, exp_digits=2))\n",
        "\n",
        "ejercicio_4 = (7.4*(10**5)) / (7.2*(10**4))\n",
        "print(\"El resultado del ejercicio 4 es:\", np.format_float_scientific(ejercicio_4, precision = 2, exp_digits=2))"
      ],
      "metadata": {
        "colab": {
          "base_uri": "https://localhost:8080/"
        },
        "id": "tUJiebkEJhUV",
        "outputId": "dfc824a8-1b0e-4d06-c46b-8f207c7f2667"
      },
      "execution_count": 42,
      "outputs": [
        {
          "output_type": "stream",
          "name": "stdout",
          "text": [
            "Solucion de los problemas:\n",
            "El resultado del ejercicio 1 es: 8.51e-02\n",
            "El resultado del ejercicio 2 es: 1.51e+03\n",
            "El resultado del ejercicio 3 es: 5.33e+10\n",
            "El resultado del ejercicio 4 es: 1.03e+01\n"
          ]
        }
      ]
    },
    {
      "cell_type": "markdown",
      "source": [
        "## Pregunta 5: Método científico (4 puntos)"
      ],
      "metadata": {
        "id": "CuzCcXJghR14"
      }
    },
    {
      "cell_type": "markdown",
      "source": [
        "Artículo: https://bit.ly/3surZ1W\n",
        "Leer el siguiente artículo y explica cómo es aplicado el método científico. Emplea como máximo 300 palabras."
      ],
      "metadata": {
        "id": "WngRSR-Rhmx1"
      }
    },
    {
      "cell_type": "markdown",
      "source": [
        "El artículo explica la comprobación de la no superconductividad del elemento químico LK-99 y para esto influyo la presencia del método científico para su comprobación. Primeramente, a través de observaciones del elemento se creó la hipótesis de que este elemento podría funcionar como un superconductor a temperatura ambiente , lo cual sería un gran descubrimiento para la ciencia, ya que los superconductores existentes funcionan a bajas temperatura y a altas presiones. Esta idea se reforzó con una investigación que realizaron en Quantum Energy Research Centre en Corea del Sur,donde afirmaban encontrar características de los superconductores en el LK-99 como la levitación ante un imán y caídas en la resistividad. Sin enbargo al momento de comprobar estos hallazgos se encontraron que no tenían los mismo resultados. Existia una ligera levitación en el LK-99 en el cual se comprobó a través de experimentos que se debia a las impurezas en la muestras como el Cu2S. Inlcuso un instituo alemán realizó los experimentos quitando toda las impurezas y como resultado no se obtuvieron las características de los superconductores, desestimándose así la hipótesis de que el LK-99 era un superconductor. Como se puede aprenciar, los investigadores siguieron los pasos del método científico como la observación, la formulación de una hipótesis,la experimentación, el análisis de resultados y por último se generó una conclusión."
      ],
      "metadata": {
        "id": "38Py96pwThSa"
      }
    }
  ]
}